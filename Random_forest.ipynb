{
  "nbformat": 4,
  "nbformat_minor": 0,
  "metadata": {
    "colab": {
      "provenance": [],
      "include_colab_link": true
    },
    "kernelspec": {
      "name": "python3",
      "display_name": "Python 3"
    },
    "language_info": {
      "name": "python"
    }
  },
  "cells": [
    {
      "cell_type": "markdown",
      "metadata": {
        "id": "view-in-github",
        "colab_type": "text"
      },
      "source": [
        "<a href=\"https://colab.research.google.com/github/BaoFrancisNguyen/IA/blob/main/Random_forest.ipynb\" target=\"_parent\"><img src=\"https://colab.research.google.com/assets/colab-badge.svg\" alt=\"Open In Colab\"/></a>"
      ]
    },
    {
      "cell_type": "code",
      "execution_count": 3,
      "metadata": {
        "id": "3EnLzqUFaZJj"
      },
      "outputs": [],
      "source": [
        "# Traitement et manipulation des données\n",
        "import pandas as pd\n",
        "import numpy as np\n",
        "\n",
        "    # Visualisation\n",
        "import seaborn as sns\n",
        "import matplotlib.pyplot as plt\n",
        "\n",
        "    # Modélisation\n",
        "from sklearn.model_selection import train_test_split\n",
        "from sklearn.ensemble import RandomForestClassifier\n",
        "from sklearn.metrics import classification_report, confusion_matrix"
      ]
    },
    {
      "cell_type": "code",
      "source": [
        "import pandas as pd\n",
        "\n",
        "#Lien direct de téléchargement\n",
        "url = \"https://drive.google.com/uc?export=download&id=1TzUbV-Ad0LlZ-oXvlRoT0gUPKtb0UP7X\"\n",
        "\n",
        "    # Charger les données\n",
        "df = pd.read_csv(url, sep=\"\\t\")\n",
        "\n",
        "    # Aperçu des données\\n\",\n",
        "print(df.head())"
      ],
      "metadata": {
        "colab": {
          "base_uri": "https://localhost:8080/"
        },
        "id": "I4B39hWdbFwQ",
        "outputId": "c744784e-65bb-41f6-e8fb-abce847edabb"
      },
      "execution_count": 4,
      "outputs": [
        {
          "output_type": "stream",
          "name": "stdout",
          "text": [
            "     ID  Year_Birth   Education Marital_Status   Income  Kidhome  Teenhome  \\\n",
            "0  5524        1957  Graduation         Single  58138.0        0         0   \n",
            "1  2174        1954  Graduation         Single  46344.0        1         1   \n",
            "2  4141        1965  Graduation       Together  71613.0        0         0   \n",
            "3  6182        1984  Graduation       Together  26646.0        1         0   \n",
            "4  5324        1981         PhD        Married  58293.0        1         0   \n",
            "\n",
            "  Dt_Customer  Recency  MntWines  ...  NumWebVisitsMonth  AcceptedCmp3  \\\n",
            "0  04-09-2012       58       635  ...                  7             0   \n",
            "1  08-03-2014       38        11  ...                  5             0   \n",
            "2  21-08-2013       26       426  ...                  4             0   \n",
            "3  10-02-2014       26        11  ...                  6             0   \n",
            "4  19-01-2014       94       173  ...                  5             0   \n",
            "\n",
            "   AcceptedCmp4  AcceptedCmp5  AcceptedCmp1  AcceptedCmp2  Complain  \\\n",
            "0             0             0             0             0         0   \n",
            "1             0             0             0             0         0   \n",
            "2             0             0             0             0         0   \n",
            "3             0             0             0             0         0   \n",
            "4             0             0             0             0         0   \n",
            "\n",
            "   Z_CostContact  Z_Revenue  Response  \n",
            "0              3         11         1  \n",
            "1              3         11         0  \n",
            "2              3         11         0  \n",
            "3              3         11         0  \n",
            "4              3         11         0  \n",
            "\n",
            "[5 rows x 29 columns]\n"
          ]
        }
      ]
    },
    {
      "source": [
        "colonnes_vides = df.isnull().sum()\n",
        "print(colonnes_vides[colonnes_vides > 0])  # Afficher uniquement les colonnes avec des valeurs manquantes\n"
      ],
      "cell_type": "code",
      "metadata": {
        "colab": {
          "base_uri": "https://localhost:8080/"
        },
        "id": "tUf-1Y24eSHH",
        "outputId": "67a0ed9b-89b4-4b49-b2e0-5da4121db9d0"
      },
      "execution_count": 5,
      "outputs": [
        {
          "output_type": "stream",
          "name": "stdout",
          "text": [
            "Income    24\n",
            "dtype: int64\n"
          ]
        }
      ]
    },
    {
      "cell_type": "code",
      "source": [
        "\n",
        "# pour remplacer les éléments vides par la moyenne\n",
        "#moyenne_income = df['Income'].mean()\n",
        "     #df['Income'] = df['Income'].fillna(moyenne_income)\n",
        "\n",
        "# pour supprimer les lignes n'ayant pas de données dans la colonne \"Income\"\n",
        "df = df.dropna(subset=['Income'])\n"
      ],
      "metadata": {
        "id": "jI4xLRCEcnP3"
      },
      "execution_count": 6,
      "outputs": []
    },
    {
      "cell_type": "code",
      "source": [
        "#identifier les doublons\n",
        "doublons = df.duplicated()\n",
        "print(doublons.sum())\n",
        " #si doublons, utiliser df.drop_duplicates()"
      ],
      "metadata": {
        "colab": {
          "base_uri": "https://localhost:8080/"
        },
        "id": "Hq0IoXHLfN24",
        "outputId": "46950036-958a-454c-9d85-594cf3bf979f"
      },
      "execution_count": 7,
      "outputs": [
        {
          "output_type": "stream",
          "name": "stdout",
          "text": [
            "0\n"
          ]
        }
      ]
    },
    {
      "cell_type": "code",
      "source": [
        "# supprimer la colonne 'ID'\n",
        "df = df.drop('ID', axis=1)\n",
        "print(df)"
      ],
      "metadata": {
        "colab": {
          "base_uri": "https://localhost:8080/"
        },
        "id": "qyZz-6O-gfo8",
        "outputId": "4ece912a-96bc-4fba-9653-25abd902d42b"
      },
      "execution_count": 8,
      "outputs": [
        {
          "output_type": "stream",
          "name": "stdout",
          "text": [
            "      Year_Birth   Education Marital_Status   Income  Kidhome  Teenhome  \\\n",
            "0           1957  Graduation         Single  58138.0        0         0   \n",
            "1           1954  Graduation         Single  46344.0        1         1   \n",
            "2           1965  Graduation       Together  71613.0        0         0   \n",
            "3           1984  Graduation       Together  26646.0        1         0   \n",
            "4           1981         PhD        Married  58293.0        1         0   \n",
            "...          ...         ...            ...      ...      ...       ...   \n",
            "2235        1967  Graduation        Married  61223.0        0         1   \n",
            "2236        1946         PhD       Together  64014.0        2         1   \n",
            "2237        1981  Graduation       Divorced  56981.0        0         0   \n",
            "2238        1956      Master       Together  69245.0        0         1   \n",
            "2239        1954         PhD        Married  52869.0        1         1   \n",
            "\n",
            "     Dt_Customer  Recency  MntWines  MntFruits  ...  NumWebVisitsMonth  \\\n",
            "0     04-09-2012       58       635         88  ...                  7   \n",
            "1     08-03-2014       38        11          1  ...                  5   \n",
            "2     21-08-2013       26       426         49  ...                  4   \n",
            "3     10-02-2014       26        11          4  ...                  6   \n",
            "4     19-01-2014       94       173         43  ...                  5   \n",
            "...          ...      ...       ...        ...  ...                ...   \n",
            "2235  13-06-2013       46       709         43  ...                  5   \n",
            "2236  10-06-2014       56       406          0  ...                  7   \n",
            "2237  25-01-2014       91       908         48  ...                  6   \n",
            "2238  24-01-2014        8       428         30  ...                  3   \n",
            "2239  15-10-2012       40        84          3  ...                  7   \n",
            "\n",
            "      AcceptedCmp3  AcceptedCmp4  AcceptedCmp5  AcceptedCmp1  AcceptedCmp2  \\\n",
            "0                0             0             0             0             0   \n",
            "1                0             0             0             0             0   \n",
            "2                0             0             0             0             0   \n",
            "3                0             0             0             0             0   \n",
            "4                0             0             0             0             0   \n",
            "...            ...           ...           ...           ...           ...   \n",
            "2235             0             0             0             0             0   \n",
            "2236             0             0             0             1             0   \n",
            "2237             0             1             0             0             0   \n",
            "2238             0             0             0             0             0   \n",
            "2239             0             0             0             0             0   \n",
            "\n",
            "      Complain  Z_CostContact  Z_Revenue  Response  \n",
            "0            0              3         11         1  \n",
            "1            0              3         11         0  \n",
            "2            0              3         11         0  \n",
            "3            0              3         11         0  \n",
            "4            0              3         11         0  \n",
            "...        ...            ...        ...       ...  \n",
            "2235         0              3         11         0  \n",
            "2236         0              3         11         0  \n",
            "2237         0              3         11         0  \n",
            "2238         0              3         11         0  \n",
            "2239         0              3         11         1  \n",
            "\n",
            "[2216 rows x 28 columns]\n"
          ]
        }
      ]
    },
    {
      "cell_type": "code",
      "source": [
        "valeurs_uniques = df['Marital_Status'].unique()\n",
        "print(valeurs_uniques)\n"
      ],
      "metadata": {
        "colab": {
          "base_uri": "https://localhost:8080/"
        },
        "id": "bWjnD6Tv-GlG",
        "outputId": "45f09e2e-50ba-4eb3-b391-9b3ff5ea48aa"
      },
      "execution_count": 9,
      "outputs": [
        {
          "output_type": "stream",
          "name": "stdout",
          "text": [
            "['Single' 'Together' 'Married' 'Divorced' 'Widow' 'Alone' 'Absurd' 'YOLO']\n"
          ]
        }
      ]
    },
    {
      "cell_type": "code",
      "source": [
        "comptage_valeurs = df['Marital_Status'].value_counts()\n",
        "print(comptage_valeurs)\n"
      ],
      "metadata": {
        "colab": {
          "base_uri": "https://localhost:8080/"
        },
        "id": "n_DkX_mO_Rqa",
        "outputId": "8a7b2af4-b028-454e-ef25-3aba3cf3f1fd"
      },
      "execution_count": 10,
      "outputs": [
        {
          "output_type": "stream",
          "name": "stdout",
          "text": [
            "Marital_Status\n",
            "Married     857\n",
            "Together    573\n",
            "Single      471\n",
            "Divorced    232\n",
            "Widow        76\n",
            "Alone         3\n",
            "Absurd        2\n",
            "YOLO          2\n",
            "Name: count, dtype: int64\n"
          ]
        }
      ]
    },
    {
      "cell_type": "code",
      "source": [
        "# Supprimer toutes les occurrences de 'Absurd' et 'Yolo'dans la colonne 'Marital_Status'\n",
        "df = df[df['Marital_Status'] != 'Absurd']\n",
        "df = df[df['Marital_Status'] != 'YOLO']\n",
        "\n",
        "\n",
        "print(df['Marital_Status'].value_counts())\n"
      ],
      "metadata": {
        "colab": {
          "base_uri": "https://localhost:8080/"
        },
        "id": "F5m1LBNg_pgh",
        "outputId": "97330b5b-189f-4028-ddea-00c9ec2d0d6e"
      },
      "execution_count": 11,
      "outputs": [
        {
          "output_type": "stream",
          "name": "stdout",
          "text": [
            "Marital_Status\n",
            "Married     857\n",
            "Together    573\n",
            "Single      471\n",
            "Divorced    232\n",
            "Widow        76\n",
            "Alone         3\n",
            "Name: count, dtype: int64\n"
          ]
        }
      ]
    },
    {
      "cell_type": "markdown",
      "source": [
        "Encodage des données de **catégories**"
      ],
      "metadata": {
        "id": "LbNAKQpyvxm3"
      }
    },
    {
      "cell_type": "code",
      "source": [],
      "metadata": {
        "id": "4ne9ycQHwrKd"
      },
      "execution_count": null,
      "outputs": []
    },
    {
      "cell_type": "code",
      "source": [
        "from sklearn.preprocessing import LabelEncoder\n",
        "# Initialiser le label encoder\n",
        "label_encoder = LabelEncoder()\n",
        "\n",
        "# Liste des colonnes catégoriques à encoder\n",
        "categorical_columns = ['Education', 'Marital_Status']\n",
        "\n",
        "# pour les colonnes 'Education' et 'Marital_Status'\n",
        "##label_encoder = LabelEncoder()\n",
        "##data['Education_Label'] = label_encoder.fit_transform(data['Education'])\n",
        "##data['Marital_Status_Label'] = label_encoder.fit_transform(data['Marital_Status'])\n",
        "\n",
        "# Appliquer à plusieurs colonnes\n",
        "categorical_columns = ['Education', 'Marital_Status']\n",
        "for col in categorical_columns:\n",
        "    df[col + '_Label'] = label_encoder.fit_transform(df[col])\n",
        "\n",
        "# Vérifier le résultat\n",
        "print(df[['Education', 'Education_Label']])\n"
      ],
      "metadata": {
        "colab": {
          "base_uri": "https://localhost:8080/"
        },
        "id": "NxJBRdIOvv81",
        "outputId": "0e368d65-264a-4d6c-86d9-7824c56e2c87"
      },
      "execution_count": 28,
      "outputs": [
        {
          "output_type": "stream",
          "name": "stdout",
          "text": [
            "       Education  Education_Label\n",
            "0     Graduation                2\n",
            "1     Graduation                2\n",
            "2     Graduation                2\n",
            "3     Graduation                2\n",
            "4            PhD                4\n",
            "...          ...              ...\n",
            "2235  Graduation                2\n",
            "2236         PhD                4\n",
            "2237  Graduation                2\n",
            "2238      Master                3\n",
            "2239         PhD                4\n",
            "\n",
            "[2212 rows x 2 columns]\n"
          ]
        }
      ]
    },
    {
      "cell_type": "markdown",
      "source": [
        "**Nous avons défini les données d'Education' et 'Marital_Status' en int**\n"
      ],
      "metadata": {
        "id": "JUf1-XUSw9E6"
      }
    },
    {
      "cell_type": "code",
      "source": [
        "valeurs_uniques_education = df['Education_Label'].unique()\n",
        "print(valeurs_uniques_education) # vérifier toutes les valeurs différentes"
      ],
      "metadata": {
        "colab": {
          "base_uri": "https://localhost:8080/"
        },
        "id": "h4cjAjrO8ZdJ",
        "outputId": "89b4db5a-6f0c-41d7-c81d-acda841015e6"
      },
      "execution_count": 13,
      "outputs": [
        {
          "output_type": "stream",
          "name": "stdout",
          "text": [
            "[2 4 3 1 0]\n"
          ]
        }
      ]
    },
    {
      "cell_type": "code",
      "source": [
        "print(df.isnull().sum())  # vérifier si on compte des NaN"
      ],
      "metadata": {
        "colab": {
          "base_uri": "https://localhost:8080/"
        },
        "id": "BKwnzC7a90FH",
        "outputId": "07d58a86-ac3c-4808-ec20-1656794652db"
      },
      "execution_count": 38,
      "outputs": [
        {
          "output_type": "stream",
          "name": "stdout",
          "text": [
            "Year_Birth              0\n",
            "Education               0\n",
            "Marital_Status          0\n",
            "Income                  0\n",
            "Kidhome                 0\n",
            "Teenhome                0\n",
            "Dt_Customer             0\n",
            "Recency                 0\n",
            "MntWines                0\n",
            "MntFruits               0\n",
            "MntMeatProducts         0\n",
            "MntFishProducts         0\n",
            "MntSweetProducts        0\n",
            "MntGoldProds            0\n",
            "NumDealsPurchases       0\n",
            "NumWebPurchases         0\n",
            "NumCatalogPurchases     0\n",
            "NumStorePurchases       0\n",
            "NumWebVisitsMonth       0\n",
            "AcceptedCmp3            0\n",
            "AcceptedCmp4            0\n",
            "AcceptedCmp5            0\n",
            "AcceptedCmp1            0\n",
            "AcceptedCmp2            0\n",
            "Complain                0\n",
            "Z_CostContact           0\n",
            "Z_Revenue               0\n",
            "Response                0\n",
            "Education_Label         0\n",
            "Marital_Status_Label    0\n",
            "dtype: int64\n"
          ]
        }
      ]
    },
    {
      "cell_type": "code",
      "source": [
        "print(df)"
      ],
      "metadata": {
        "id": "hUMFQ1QpDfgp",
        "outputId": "cd26755a-1a1f-40cd-b885-0b3f5b74aa9e",
        "colab": {
          "base_uri": "https://localhost:8080/"
        }
      },
      "execution_count": 39,
      "outputs": [
        {
          "output_type": "stream",
          "name": "stdout",
          "text": [
            "      Year_Birth   Education Marital_Status   Income  Kidhome  Teenhome  \\\n",
            "0           1957  Graduation          Alone  58138.0        0         0   \n",
            "1           1954  Graduation          Alone  46344.0        1         1   \n",
            "2           1965  Graduation       Together  71613.0        0         0   \n",
            "3           1984  Graduation       Together  26646.0        1         0   \n",
            "4           1981         PhD       Together  58293.0        1         0   \n",
            "...          ...         ...            ...      ...      ...       ...   \n",
            "2235        1967  Graduation       Together  61223.0        0         1   \n",
            "2236        1946         PhD       Together  64014.0        2         1   \n",
            "2237        1981  Graduation          Alone  56981.0        0         0   \n",
            "2238        1956      Master       Together  69245.0        0         1   \n",
            "2239        1954         PhD       Together  52869.0        1         1   \n",
            "\n",
            "     Dt_Customer  Recency  MntWines  MntFruits  ...  AcceptedCmp4  \\\n",
            "0     04-09-2012       58       635         88  ...             0   \n",
            "1     08-03-2014       38        11          1  ...             0   \n",
            "2     21-08-2013       26       426         49  ...             0   \n",
            "3     10-02-2014       26        11          4  ...             0   \n",
            "4     19-01-2014       94       173         43  ...             0   \n",
            "...          ...      ...       ...        ...  ...           ...   \n",
            "2235  13-06-2013       46       709         43  ...             0   \n",
            "2236  10-06-2014       56       406          0  ...             0   \n",
            "2237  25-01-2014       91       908         48  ...             1   \n",
            "2238  24-01-2014        8       428         30  ...             0   \n",
            "2239  15-10-2012       40        84          3  ...             0   \n",
            "\n",
            "      AcceptedCmp5  AcceptedCmp1  AcceptedCmp2  Complain  Z_CostContact  \\\n",
            "0                0             0             0         0              3   \n",
            "1                0             0             0         0              3   \n",
            "2                0             0             0         0              3   \n",
            "3                0             0             0         0              3   \n",
            "4                0             0             0         0              3   \n",
            "...            ...           ...           ...       ...            ...   \n",
            "2235             0             0             0         0              3   \n",
            "2236             0             1             0         0              3   \n",
            "2237             0             0             0         0              3   \n",
            "2238             0             0             0         0              3   \n",
            "2239             0             0             0         0              3   \n",
            "\n",
            "      Z_Revenue  Response  Education_Label  Marital_Status_Label  \n",
            "0            11         1                2                     0  \n",
            "1            11         0                2                     0  \n",
            "2            11         0                2                     1  \n",
            "3            11         0                2                     1  \n",
            "4            11         0                4                     1  \n",
            "...         ...       ...              ...                   ...  \n",
            "2235         11         0                2                     1  \n",
            "2236         11         0                4                     1  \n",
            "2237         11         0                2                     0  \n",
            "2238         11         0                3                     1  \n",
            "2239         11         1                4                     1  \n",
            "\n",
            "[2212 rows x 30 columns]\n"
          ]
        }
      ]
    },
    {
      "cell_type": "code",
      "source": [
        "\n",
        "df['Marital_Status'] = df['Marital_Status'].replace('Married', 'Together')\n",
        "df['Marital_Status'] = df['Marital_Status'].replace('Divorced', 'Alone')\n",
        "df['Marital_Status'] = df['Marital_Status'].replace('Widow', 'Alone')\n",
        "df['Marital_Status'] = df['Marital_Status'].replace('Single', 'Alone')\n",
        "print(df['Marital_Status'].value_counts())"
      ],
      "metadata": {
        "colab": {
          "base_uri": "https://localhost:8080/"
        },
        "id": "Fk-CQtFTAr-5",
        "outputId": "2b97f1d6-a134-4a1a-908d-b6012a7802c6"
      },
      "execution_count": 16,
      "outputs": [
        {
          "output_type": "stream",
          "name": "stdout",
          "text": [
            "Marital_Status\n",
            "Together    1430\n",
            "Alone        782\n",
            "Name: count, dtype: int64\n"
          ]
        }
      ]
    },
    {
      "cell_type": "code",
      "source": [
        "from sklearn.preprocessing import StandardScaler\n",
        "import pandas as pd\n",
        "\n",
        "# Exemple de DataFrame avec les colonnes nécessaires\n",
        "\n",
        "\n",
        "# Sélection des colonnes numériques\n",
        "numerical_cols = ['Income', 'Kidhome', 'Teenhome', 'Recency', 'MntWines', 'MntFruits',\n",
        "                  'MntMeatProducts', 'MntFishProducts', 'MntSweetProducts', 'MntGoldProds',\n",
        "                  'NumDealsPurchases', 'NumWebPurchases', 'NumCatalogPurchases', 'NumStorePurchases',\n",
        "                  'NumWebVisitsMonth', 'AcceptedCmp3', 'AcceptedCmp4', 'AcceptedCmp5', 'AcceptedCmp1',\n",
        "                  'AcceptedCmp2', 'Z_CostContact', 'Z_Revenue','Response']\n",
        "\n",
        "# Sélection des colonnes catégoriques\n",
        "categorical_cols = ['Dt_Customer', 'Complain']\n",
        "\n",
        "# Sélectionner les colonnes numériques pour la standardisation\n",
        "X = df[numerical_cols]\n",
        "\n",
        "# Créer un objet StandardScaler\n",
        "scaler = StandardScaler()\n",
        "\n",
        "# Appliquer la standardisation\n",
        "X_scaled = scaler.fit_transform(X)\n",
        "\n",
        "# Convertir les données standardisées en DataFrame\n",
        "X_scaled_df = pd.DataFrame(X_scaled, columns=numerical_cols)\n",
        "\n",
        "# Concaténer les colonnes standardisées avec les variables catégoriques\n",
        "df_standardized = pd.concat([X_scaled_df, df[categorical_cols]], axis=1)\n",
        "\n",
        "# Vérification du résultat\n",
        "print(df_standardized.head())\n",
        "\n"
      ],
      "metadata": {
        "colab": {
          "base_uri": "https://localhost:8080/"
        },
        "id": "g8eROmCRgrsk",
        "outputId": "eae06ca0-085d-462b-c2fd-4dd1eda29b22"
      },
      "execution_count": 32,
      "outputs": [
        {
          "output_type": "stream",
          "name": "stdout",
          "text": [
            "     Income   Kidhome  Teenhome   Recency  MntWines  MntFruits  \\\n",
            "0  0.234515 -0.824288  -0.92886  0.309300  0.977586   1.550693   \n",
            "1 -0.233840  1.038148   0.90892 -0.381922 -0.871112  -0.636731   \n",
            "2  0.769624 -0.824288  -0.92886 -0.796656  0.358390   0.570123   \n",
            "3 -1.016073  1.038148  -0.92886 -0.796656 -0.871112  -0.561303   \n",
            "4  0.240670  1.038148  -0.92886  1.553500 -0.391162   0.419267   \n",
            "\n",
            "   MntMeatProducts  MntFishProducts  MntSweetProducts  MntGoldProds  ...  \\\n",
            "0         1.689878         2.465495          1.483638      0.855961  ...   \n",
            "1        -0.717674        -0.651121         -0.634018     -0.732823  ...   \n",
            "2        -0.178204         1.347180         -0.147201     -0.035308  ...   \n",
            "3        -0.655256        -0.504457         -0.585336     -0.752199  ...   \n",
            "4        -0.218330         0.155532         -0.001155     -0.558445  ...   \n",
            "\n",
            "   AcceptedCmp3  AcceptedCmp4  AcceptedCmp5  AcceptedCmp1  AcceptedCmp2  \\\n",
            "0     -0.282048     -0.282981     -0.280175     -0.260927     -0.117256   \n",
            "1     -0.282048     -0.282981     -0.280175     -0.260927     -0.117256   \n",
            "2     -0.282048     -0.282981     -0.280175     -0.260927     -0.117256   \n",
            "3     -0.282048     -0.282981     -0.280175     -0.260927     -0.117256   \n",
            "4     -0.282048     -0.282981     -0.280175     -0.260927     -0.117256   \n",
            "\n",
            "   Z_CostContact  Z_Revenue  Response  Dt_Customer  Complain  \n",
            "0            0.0        0.0  2.383858   04-09-2012       0.0  \n",
            "1            0.0        0.0 -0.419488   08-03-2014       0.0  \n",
            "2            0.0        0.0 -0.419488   21-08-2013       0.0  \n",
            "3            0.0        0.0 -0.419488   10-02-2014       0.0  \n",
            "4            0.0        0.0 -0.419488   19-01-2014       0.0  \n",
            "\n",
            "[5 rows x 25 columns]\n"
          ]
        }
      ]
    },
    {
      "cell_type": "code",
      "source": [
        "\n",
        "df_standardized['Education_Label']\n",
        "valeurs_uniques_education_standardized = df_standardized['Education_Label'].unique()\n",
        "print(valeurs_uniques_education_standardized)"
      ],
      "metadata": {
        "colab": {
          "base_uri": "https://localhost:8080/",
          "height": 547
        },
        "id": "UGFx0uUR9jMo",
        "outputId": "ca886558-b7de-43cb-b11c-fa21ead4fc97"
      },
      "execution_count": 33,
      "outputs": [
        {
          "output_type": "error",
          "ename": "KeyError",
          "evalue": "'Education_Label'",
          "traceback": [
            "\u001b[0;31m---------------------------------------------------------------------------\u001b[0m",
            "\u001b[0;31mKeyError\u001b[0m                                  Traceback (most recent call last)",
            "\u001b[0;32m/usr/local/lib/python3.10/dist-packages/pandas/core/indexes/base.py\u001b[0m in \u001b[0;36mget_loc\u001b[0;34m(self, key)\u001b[0m\n\u001b[1;32m   3804\u001b[0m         \u001b[0;32mtry\u001b[0m\u001b[0;34m:\u001b[0m\u001b[0;34m\u001b[0m\u001b[0;34m\u001b[0m\u001b[0m\n\u001b[0;32m-> 3805\u001b[0;31m             \u001b[0;32mreturn\u001b[0m \u001b[0mself\u001b[0m\u001b[0;34m.\u001b[0m\u001b[0m_engine\u001b[0m\u001b[0;34m.\u001b[0m\u001b[0mget_loc\u001b[0m\u001b[0;34m(\u001b[0m\u001b[0mcasted_key\u001b[0m\u001b[0;34m)\u001b[0m\u001b[0;34m\u001b[0m\u001b[0;34m\u001b[0m\u001b[0m\n\u001b[0m\u001b[1;32m   3806\u001b[0m         \u001b[0;32mexcept\u001b[0m \u001b[0mKeyError\u001b[0m \u001b[0;32mas\u001b[0m \u001b[0merr\u001b[0m\u001b[0;34m:\u001b[0m\u001b[0;34m\u001b[0m\u001b[0;34m\u001b[0m\u001b[0m\n",
            "\u001b[0;32mindex.pyx\u001b[0m in \u001b[0;36mpandas._libs.index.IndexEngine.get_loc\u001b[0;34m()\u001b[0m\n",
            "\u001b[0;32mindex.pyx\u001b[0m in \u001b[0;36mpandas._libs.index.IndexEngine.get_loc\u001b[0;34m()\u001b[0m\n",
            "\u001b[0;32mpandas/_libs/hashtable_class_helper.pxi\u001b[0m in \u001b[0;36mpandas._libs.hashtable.PyObjectHashTable.get_item\u001b[0;34m()\u001b[0m\n",
            "\u001b[0;32mpandas/_libs/hashtable_class_helper.pxi\u001b[0m in \u001b[0;36mpandas._libs.hashtable.PyObjectHashTable.get_item\u001b[0;34m()\u001b[0m\n",
            "\u001b[0;31mKeyError\u001b[0m: 'Education_Label'",
            "\nThe above exception was the direct cause of the following exception:\n",
            "\u001b[0;31mKeyError\u001b[0m                                  Traceback (most recent call last)",
            "\u001b[0;32m<ipython-input-33-f30fa3f258a6>\u001b[0m in \u001b[0;36m<cell line: 1>\u001b[0;34m()\u001b[0m\n\u001b[0;32m----> 1\u001b[0;31m \u001b[0mdf_standardized\u001b[0m\u001b[0;34m[\u001b[0m\u001b[0;34m'Education_Label'\u001b[0m\u001b[0;34m]\u001b[0m\u001b[0;34m\u001b[0m\u001b[0;34m\u001b[0m\u001b[0m\n\u001b[0m\u001b[1;32m      2\u001b[0m \u001b[0mvaleurs_uniques_education_standardized\u001b[0m \u001b[0;34m=\u001b[0m \u001b[0mdf_standardized\u001b[0m\u001b[0;34m[\u001b[0m\u001b[0;34m'Education_Label'\u001b[0m\u001b[0;34m]\u001b[0m\u001b[0;34m.\u001b[0m\u001b[0munique\u001b[0m\u001b[0;34m(\u001b[0m\u001b[0;34m)\u001b[0m\u001b[0;34m\u001b[0m\u001b[0;34m\u001b[0m\u001b[0m\n\u001b[1;32m      3\u001b[0m \u001b[0mprint\u001b[0m\u001b[0;34m(\u001b[0m\u001b[0mvaleurs_uniques_education_standardized\u001b[0m\u001b[0;34m)\u001b[0m\u001b[0;34m\u001b[0m\u001b[0;34m\u001b[0m\u001b[0m\n",
            "\u001b[0;32m/usr/local/lib/python3.10/dist-packages/pandas/core/frame.py\u001b[0m in \u001b[0;36m__getitem__\u001b[0;34m(self, key)\u001b[0m\n\u001b[1;32m   4100\u001b[0m             \u001b[0;32mif\u001b[0m \u001b[0mself\u001b[0m\u001b[0;34m.\u001b[0m\u001b[0mcolumns\u001b[0m\u001b[0;34m.\u001b[0m\u001b[0mnlevels\u001b[0m \u001b[0;34m>\u001b[0m \u001b[0;36m1\u001b[0m\u001b[0;34m:\u001b[0m\u001b[0;34m\u001b[0m\u001b[0;34m\u001b[0m\u001b[0m\n\u001b[1;32m   4101\u001b[0m                 \u001b[0;32mreturn\u001b[0m \u001b[0mself\u001b[0m\u001b[0;34m.\u001b[0m\u001b[0m_getitem_multilevel\u001b[0m\u001b[0;34m(\u001b[0m\u001b[0mkey\u001b[0m\u001b[0;34m)\u001b[0m\u001b[0;34m\u001b[0m\u001b[0;34m\u001b[0m\u001b[0m\n\u001b[0;32m-> 4102\u001b[0;31m             \u001b[0mindexer\u001b[0m \u001b[0;34m=\u001b[0m \u001b[0mself\u001b[0m\u001b[0;34m.\u001b[0m\u001b[0mcolumns\u001b[0m\u001b[0;34m.\u001b[0m\u001b[0mget_loc\u001b[0m\u001b[0;34m(\u001b[0m\u001b[0mkey\u001b[0m\u001b[0;34m)\u001b[0m\u001b[0;34m\u001b[0m\u001b[0;34m\u001b[0m\u001b[0m\n\u001b[0m\u001b[1;32m   4103\u001b[0m             \u001b[0;32mif\u001b[0m \u001b[0mis_integer\u001b[0m\u001b[0;34m(\u001b[0m\u001b[0mindexer\u001b[0m\u001b[0;34m)\u001b[0m\u001b[0;34m:\u001b[0m\u001b[0;34m\u001b[0m\u001b[0;34m\u001b[0m\u001b[0m\n\u001b[1;32m   4104\u001b[0m                 \u001b[0mindexer\u001b[0m \u001b[0;34m=\u001b[0m \u001b[0;34m[\u001b[0m\u001b[0mindexer\u001b[0m\u001b[0;34m]\u001b[0m\u001b[0;34m\u001b[0m\u001b[0;34m\u001b[0m\u001b[0m\n",
            "\u001b[0;32m/usr/local/lib/python3.10/dist-packages/pandas/core/indexes/base.py\u001b[0m in \u001b[0;36mget_loc\u001b[0;34m(self, key)\u001b[0m\n\u001b[1;32m   3810\u001b[0m             ):\n\u001b[1;32m   3811\u001b[0m                 \u001b[0;32mraise\u001b[0m \u001b[0mInvalidIndexError\u001b[0m\u001b[0;34m(\u001b[0m\u001b[0mkey\u001b[0m\u001b[0;34m)\u001b[0m\u001b[0;34m\u001b[0m\u001b[0;34m\u001b[0m\u001b[0m\n\u001b[0;32m-> 3812\u001b[0;31m             \u001b[0;32mraise\u001b[0m \u001b[0mKeyError\u001b[0m\u001b[0;34m(\u001b[0m\u001b[0mkey\u001b[0m\u001b[0;34m)\u001b[0m \u001b[0;32mfrom\u001b[0m \u001b[0merr\u001b[0m\u001b[0;34m\u001b[0m\u001b[0;34m\u001b[0m\u001b[0m\n\u001b[0m\u001b[1;32m   3813\u001b[0m         \u001b[0;32mexcept\u001b[0m \u001b[0mTypeError\u001b[0m\u001b[0;34m:\u001b[0m\u001b[0;34m\u001b[0m\u001b[0;34m\u001b[0m\u001b[0m\n\u001b[1;32m   3814\u001b[0m             \u001b[0;31m# If we have a listlike key, _check_indexing_error will raise\u001b[0m\u001b[0;34m\u001b[0m\u001b[0;34m\u001b[0m\u001b[0m\n",
            "\u001b[0;31mKeyError\u001b[0m: 'Education_Label'"
          ]
        }
      ]
    },
    {
      "cell_type": "code",
      "source": [],
      "metadata": {
        "id": "2U5x4iB19jal"
      },
      "execution_count": null,
      "outputs": []
    },
    {
      "cell_type": "code",
      "source": [
        "import pandas as pd\n",
        "\n",
        "# Conversion en datetime\n",
        "df_standardized[\"Dt_Customer\"] = pd.to_datetime(df_standardized[\"Dt_Customer\"], format=\"%d-%m-%Y\")\n",
        "\n",
        "# Extraire l'année et le mois (ou tout autre paramètre pertinent)\n",
        "df_standardized[\"Year_Customer\"] = df_standardized[\"Dt_Customer\"].dt.year\n",
        "df_standardized[\"Month_Customer\"] = df_standardized[\"Dt_Customer\"].dt.month\n",
        "\n",
        "# Option : Nombre de jours écoulés depuis une date de référence\n",
        "df_standardized[\"Days_Since_Customer\"] = (pd.to_datetime(\"2024-01-01\") - df_standardized[\"Dt_Customer\"]).dt.days\n"
      ],
      "metadata": {
        "id": "w2u2fg1Xlg_n"
      },
      "execution_count": 40,
      "outputs": []
    },
    {
      "cell_type": "code",
      "source": [
        "\n"
      ],
      "metadata": {
        "id": "rUsghefqljOI"
      },
      "execution_count": null,
      "outputs": []
    },
    {
      "cell_type": "code",
      "source": [
        "from sklearn.preprocessing import StandardScaler\n",
        "\n",
        "# Liste des colonnes numériques à standardiser\n",
        "num_cols = [\"Income\", \"Kidhome\", \"Teenhome\", \"Recency\", \"MntWines\", \"MntFruits\",\n",
        "            \"MntMeatProducts\", \"MntFishProducts\", \"MntSweetProducts\", \"MntGoldProds\",\n",
        "            \"Year_Customer\", \"Month_Customer\", \"Days_Since_Customer\"]\n",
        "\n",
        "scaler = StandardScaler()\n",
        "df_standardized[num_cols] = scaler.fit_transform(df_standardized[num_cols])\n"
      ],
      "metadata": {
        "id": "dMl5Hjs3l3DB"
      },
      "execution_count": 41,
      "outputs": []
    },
    {
      "cell_type": "code",
      "source": [
        "from sklearn.model_selection import train_test_split\n",
        "from sklearn.impute import SimpleImputer\n",
        "\n",
        "# Séparer les caractéristiques et la cible\n",
        "X = df_standardized.drop(columns=[\"Response\", \"Dt_Customer\"])  # Supprimer aussi Dt_Customer transformé\n",
        "y = df_standardized[\"Response\"]\n",
        "\n",
        "# Handle missing values in the target variable (y) using SimpleImputer\n",
        "imputer = SimpleImputer(strategy='most_frequent')  # Replace NaNs with the most frequent value\n",
        "y_imputed = imputer.fit_transform(y.values.reshape(-1, 1))  # Reshape for SimpleImputer compatibility\n",
        "y_imputed = y_imputed.astype(int)\n",
        "\n",
        "y = y_imputed.ravel()\n",
        "\n",
        "# Diviser en ensembles d'entraînement et de test\n",
        "X_train, X_test, y_train, y_test = train_test_split(X, y, test_size=0.2, random_state=10)\n"
      ],
      "metadata": {
        "id": "N4xDcw9ZmApu"
      },
      "execution_count": 51,
      "outputs": []
    },
    {
      "cell_type": "code",
      "source": [
        "from sklearn.ensemble import RandomForestClassifier\n",
        "from sklearn.metrics import accuracy_score, classification_report\n",
        "\n",
        "# Initialisation et entraînement\n",
        "model = RandomForestClassifier(random_state=10)\n",
        "model.fit(X_train, y_train)\n",
        "\n",
        "# Prédiction et évaluation\n",
        "y_pred = model.predict(X_test)\n",
        "print(\"Accuracy :\", accuracy_score(y_test, y_pred))\n",
        "print(classification_report(y_test, y_pred))\n"
      ],
      "metadata": {
        "colab": {
          "base_uri": "https://localhost:8080/"
        },
        "id": "F8qD3JIKmG9T",
        "outputId": "fdecefb5-f31b-4ec6-c73c-689e8ee5b43f"
      },
      "execution_count": 52,
      "outputs": [
        {
          "output_type": "stream",
          "name": "stdout",
          "text": [
            "Accuracy : 0.859375\n",
            "              precision    recall  f1-score   support\n",
            "\n",
            "           0       0.87      0.98      0.92       382\n",
            "           2       0.58      0.17      0.26        66\n",
            "\n",
            "    accuracy                           0.86       448\n",
            "   macro avg       0.73      0.57      0.59       448\n",
            "weighted avg       0.83      0.86      0.82       448\n",
            "\n"
          ]
        }
      ]
    },
    {
      "cell_type": "code",
      "source": [
        "#identifier les types\n",
        "print(X_train.dtypes)\n"
      ],
      "metadata": {
        "colab": {
          "base_uri": "https://localhost:8080/"
        },
        "id": "4DAF83-nmhRB",
        "outputId": "31972ddf-87fd-4728-8f12-7972ebcb5c69"
      },
      "execution_count": 27,
      "outputs": [
        {
          "output_type": "stream",
          "name": "stdout",
          "text": [
            "Income                  float64\n",
            "Kidhome                 float64\n",
            "Teenhome                float64\n",
            "Recency                 float64\n",
            "MntWines                float64\n",
            "MntFruits               float64\n",
            "MntMeatProducts         float64\n",
            "MntFishProducts         float64\n",
            "MntSweetProducts        float64\n",
            "MntGoldProds            float64\n",
            "NumDealsPurchases       float64\n",
            "NumWebPurchases         float64\n",
            "NumCatalogPurchases     float64\n",
            "NumStorePurchases       float64\n",
            "NumWebVisitsMonth       float64\n",
            "AcceptedCmp3            float64\n",
            "AcceptedCmp4            float64\n",
            "AcceptedCmp5            float64\n",
            "AcceptedCmp1            float64\n",
            "AcceptedCmp2            float64\n",
            "Z_CostContact           float64\n",
            "Z_Revenue               float64\n",
            "Education_Label         float64\n",
            "Marital_Status_Label    float64\n",
            "Complain                float64\n",
            "dtype: object\n"
          ]
        }
      ]
    },
    {
      "cell_type": "code",
      "source": [
        "\n",
        "X_train = pd.get_dummies(X_train, columns=[\"Education\", \"Marital_Status\"], drop_first=True)\n",
        "X_test = pd.get_dummies(X_test, columns=[\"Education\", \"Marital_Status\"], drop_first=True)\n"
      ],
      "metadata": {
        "colab": {
          "base_uri": "https://localhost:8080/",
          "height": 321
        },
        "id": "QvtC_MflmxO7",
        "outputId": "c2c994f8-82cf-4647-e2d1-82f04aeb4117"
      },
      "execution_count": null,
      "outputs": [
        {
          "output_type": "error",
          "ename": "KeyError",
          "evalue": "\"None of [Index(['Education', 'Marital_Status'], dtype='object')] are in the [columns]\"",
          "traceback": [
            "\u001b[0;31m---------------------------------------------------------------------------\u001b[0m",
            "\u001b[0;31mKeyError\u001b[0m                                  Traceback (most recent call last)",
            "\u001b[0;32m<ipython-input-99-8f1354063240>\u001b[0m in \u001b[0;36m<cell line: 1>\u001b[0;34m()\u001b[0m\n\u001b[0;32m----> 1\u001b[0;31m \u001b[0mX_train\u001b[0m \u001b[0;34m=\u001b[0m \u001b[0mpd\u001b[0m\u001b[0;34m.\u001b[0m\u001b[0mget_dummies\u001b[0m\u001b[0;34m(\u001b[0m\u001b[0mX_train\u001b[0m\u001b[0;34m,\u001b[0m \u001b[0mcolumns\u001b[0m\u001b[0;34m=\u001b[0m\u001b[0;34m[\u001b[0m\u001b[0;34m\"Education\"\u001b[0m\u001b[0;34m,\u001b[0m \u001b[0;34m\"Marital_Status\"\u001b[0m\u001b[0;34m]\u001b[0m\u001b[0;34m,\u001b[0m \u001b[0mdrop_first\u001b[0m\u001b[0;34m=\u001b[0m\u001b[0;32mTrue\u001b[0m\u001b[0;34m)\u001b[0m\u001b[0;34m\u001b[0m\u001b[0;34m\u001b[0m\u001b[0m\n\u001b[0m\u001b[1;32m      2\u001b[0m \u001b[0mX_test\u001b[0m \u001b[0;34m=\u001b[0m \u001b[0mpd\u001b[0m\u001b[0;34m.\u001b[0m\u001b[0mget_dummies\u001b[0m\u001b[0;34m(\u001b[0m\u001b[0mX_test\u001b[0m\u001b[0;34m,\u001b[0m \u001b[0mcolumns\u001b[0m\u001b[0;34m=\u001b[0m\u001b[0;34m[\u001b[0m\u001b[0;34m\"Education\"\u001b[0m\u001b[0;34m,\u001b[0m \u001b[0;34m\"Marital_Status\"\u001b[0m\u001b[0;34m]\u001b[0m\u001b[0;34m,\u001b[0m \u001b[0mdrop_first\u001b[0m\u001b[0;34m=\u001b[0m\u001b[0;32mTrue\u001b[0m\u001b[0;34m)\u001b[0m\u001b[0;34m\u001b[0m\u001b[0;34m\u001b[0m\u001b[0m\n",
            "\u001b[0;32m/usr/local/lib/python3.10/dist-packages/pandas/core/reshape/encoding.py\u001b[0m in \u001b[0;36mget_dummies\u001b[0;34m(data, prefix, prefix_sep, dummy_na, columns, sparse, drop_first, dtype)\u001b[0m\n\u001b[1;32m    167\u001b[0m             \u001b[0;32mraise\u001b[0m \u001b[0mTypeError\u001b[0m\u001b[0;34m(\u001b[0m\u001b[0;34m\"Input must be a list-like for parameter `columns`\"\u001b[0m\u001b[0;34m)\u001b[0m\u001b[0;34m\u001b[0m\u001b[0;34m\u001b[0m\u001b[0m\n\u001b[1;32m    168\u001b[0m         \u001b[0;32melse\u001b[0m\u001b[0;34m:\u001b[0m\u001b[0;34m\u001b[0m\u001b[0;34m\u001b[0m\u001b[0m\n\u001b[0;32m--> 169\u001b[0;31m             \u001b[0mdata_to_encode\u001b[0m \u001b[0;34m=\u001b[0m \u001b[0mdata\u001b[0m\u001b[0;34m[\u001b[0m\u001b[0mcolumns\u001b[0m\u001b[0;34m]\u001b[0m\u001b[0;34m\u001b[0m\u001b[0;34m\u001b[0m\u001b[0m\n\u001b[0m\u001b[1;32m    170\u001b[0m \u001b[0;34m\u001b[0m\u001b[0m\n\u001b[1;32m    171\u001b[0m         \u001b[0;31m# validate prefixes and separator to avoid silently dropping cols\u001b[0m\u001b[0;34m\u001b[0m\u001b[0;34m\u001b[0m\u001b[0m\n",
            "\u001b[0;32m/usr/local/lib/python3.10/dist-packages/pandas/core/frame.py\u001b[0m in \u001b[0;36m__getitem__\u001b[0;34m(self, key)\u001b[0m\n\u001b[1;32m   4106\u001b[0m             \u001b[0;32mif\u001b[0m \u001b[0mis_iterator\u001b[0m\u001b[0;34m(\u001b[0m\u001b[0mkey\u001b[0m\u001b[0;34m)\u001b[0m\u001b[0;34m:\u001b[0m\u001b[0;34m\u001b[0m\u001b[0;34m\u001b[0m\u001b[0m\n\u001b[1;32m   4107\u001b[0m                 \u001b[0mkey\u001b[0m \u001b[0;34m=\u001b[0m \u001b[0mlist\u001b[0m\u001b[0;34m(\u001b[0m\u001b[0mkey\u001b[0m\u001b[0;34m)\u001b[0m\u001b[0;34m\u001b[0m\u001b[0;34m\u001b[0m\u001b[0m\n\u001b[0;32m-> 4108\u001b[0;31m             \u001b[0mindexer\u001b[0m \u001b[0;34m=\u001b[0m \u001b[0mself\u001b[0m\u001b[0;34m.\u001b[0m\u001b[0mcolumns\u001b[0m\u001b[0;34m.\u001b[0m\u001b[0m_get_indexer_strict\u001b[0m\u001b[0;34m(\u001b[0m\u001b[0mkey\u001b[0m\u001b[0;34m,\u001b[0m \u001b[0;34m\"columns\"\u001b[0m\u001b[0;34m)\u001b[0m\u001b[0;34m[\u001b[0m\u001b[0;36m1\u001b[0m\u001b[0;34m]\u001b[0m\u001b[0;34m\u001b[0m\u001b[0;34m\u001b[0m\u001b[0m\n\u001b[0m\u001b[1;32m   4109\u001b[0m \u001b[0;34m\u001b[0m\u001b[0m\n\u001b[1;32m   4110\u001b[0m         \u001b[0;31m# take() does not accept boolean indexers\u001b[0m\u001b[0;34m\u001b[0m\u001b[0;34m\u001b[0m\u001b[0m\n",
            "\u001b[0;32m/usr/local/lib/python3.10/dist-packages/pandas/core/indexes/base.py\u001b[0m in \u001b[0;36m_get_indexer_strict\u001b[0;34m(self, key, axis_name)\u001b[0m\n\u001b[1;32m   6198\u001b[0m             \u001b[0mkeyarr\u001b[0m\u001b[0;34m,\u001b[0m \u001b[0mindexer\u001b[0m\u001b[0;34m,\u001b[0m \u001b[0mnew_indexer\u001b[0m \u001b[0;34m=\u001b[0m \u001b[0mself\u001b[0m\u001b[0;34m.\u001b[0m\u001b[0m_reindex_non_unique\u001b[0m\u001b[0;34m(\u001b[0m\u001b[0mkeyarr\u001b[0m\u001b[0;34m)\u001b[0m\u001b[0;34m\u001b[0m\u001b[0;34m\u001b[0m\u001b[0m\n\u001b[1;32m   6199\u001b[0m \u001b[0;34m\u001b[0m\u001b[0m\n\u001b[0;32m-> 6200\u001b[0;31m         \u001b[0mself\u001b[0m\u001b[0;34m.\u001b[0m\u001b[0m_raise_if_missing\u001b[0m\u001b[0;34m(\u001b[0m\u001b[0mkeyarr\u001b[0m\u001b[0;34m,\u001b[0m \u001b[0mindexer\u001b[0m\u001b[0;34m,\u001b[0m \u001b[0maxis_name\u001b[0m\u001b[0;34m)\u001b[0m\u001b[0;34m\u001b[0m\u001b[0;34m\u001b[0m\u001b[0m\n\u001b[0m\u001b[1;32m   6201\u001b[0m \u001b[0;34m\u001b[0m\u001b[0m\n\u001b[1;32m   6202\u001b[0m         \u001b[0mkeyarr\u001b[0m \u001b[0;34m=\u001b[0m \u001b[0mself\u001b[0m\u001b[0;34m.\u001b[0m\u001b[0mtake\u001b[0m\u001b[0;34m(\u001b[0m\u001b[0mindexer\u001b[0m\u001b[0;34m)\u001b[0m\u001b[0;34m\u001b[0m\u001b[0;34m\u001b[0m\u001b[0m\n",
            "\u001b[0;32m/usr/local/lib/python3.10/dist-packages/pandas/core/indexes/base.py\u001b[0m in \u001b[0;36m_raise_if_missing\u001b[0;34m(self, key, indexer, axis_name)\u001b[0m\n\u001b[1;32m   6247\u001b[0m         \u001b[0;32mif\u001b[0m \u001b[0mnmissing\u001b[0m\u001b[0;34m:\u001b[0m\u001b[0;34m\u001b[0m\u001b[0;34m\u001b[0m\u001b[0m\n\u001b[1;32m   6248\u001b[0m             \u001b[0;32mif\u001b[0m \u001b[0mnmissing\u001b[0m \u001b[0;34m==\u001b[0m \u001b[0mlen\u001b[0m\u001b[0;34m(\u001b[0m\u001b[0mindexer\u001b[0m\u001b[0;34m)\u001b[0m\u001b[0;34m:\u001b[0m\u001b[0;34m\u001b[0m\u001b[0;34m\u001b[0m\u001b[0m\n\u001b[0;32m-> 6249\u001b[0;31m                 \u001b[0;32mraise\u001b[0m \u001b[0mKeyError\u001b[0m\u001b[0;34m(\u001b[0m\u001b[0;34mf\"None of [{key}] are in the [{axis_name}]\"\u001b[0m\u001b[0;34m)\u001b[0m\u001b[0;34m\u001b[0m\u001b[0;34m\u001b[0m\u001b[0m\n\u001b[0m\u001b[1;32m   6250\u001b[0m \u001b[0;34m\u001b[0m\u001b[0m\n\u001b[1;32m   6251\u001b[0m             \u001b[0mnot_found\u001b[0m \u001b[0;34m=\u001b[0m \u001b[0mlist\u001b[0m\u001b[0;34m(\u001b[0m\u001b[0mensure_index\u001b[0m\u001b[0;34m(\u001b[0m\u001b[0mkey\u001b[0m\u001b[0;34m)\u001b[0m\u001b[0;34m[\u001b[0m\u001b[0mmissing_mask\u001b[0m\u001b[0;34m.\u001b[0m\u001b[0mnonzero\u001b[0m\u001b[0;34m(\u001b[0m\u001b[0;34m)\u001b[0m\u001b[0;34m[\u001b[0m\u001b[0;36m0\u001b[0m\u001b[0;34m]\u001b[0m\u001b[0;34m]\u001b[0m\u001b[0;34m.\u001b[0m\u001b[0munique\u001b[0m\u001b[0;34m(\u001b[0m\u001b[0;34m)\u001b[0m\u001b[0;34m)\u001b[0m\u001b[0;34m\u001b[0m\u001b[0;34m\u001b[0m\u001b[0m\n",
            "\u001b[0;31mKeyError\u001b[0m: \"None of [Index(['Education', 'Marital_Status'], dtype='object')] are in the [columns]\""
          ]
        }
      ]
    },
    {
      "cell_type": "code",
      "source": [],
      "metadata": {
        "id": "IiCm1r7anN5G"
      },
      "execution_count": null,
      "outputs": []
    },
    {
      "cell_type": "code",
      "source": [
        "print(X_train.dtypes)"
      ],
      "metadata": {
        "colab": {
          "base_uri": "https://localhost:8080/"
        },
        "id": "GEi9XdPrnDiM",
        "outputId": "0bb28cf3-406d-4e73-c076-1763b11c9315"
      },
      "execution_count": null,
      "outputs": [
        {
          "output_type": "stream",
          "name": "stdout",
          "text": [
            "ID                           int64\n",
            "Year_Birth                   int64\n",
            "Income                     float64\n",
            "Kidhome                    float64\n",
            "Teenhome                   float64\n",
            "Recency                    float64\n",
            "MntWines                   float64\n",
            "MntFruits                  float64\n",
            "MntMeatProducts            float64\n",
            "MntFishProducts            float64\n",
            "MntSweetProducts           float64\n",
            "MntGoldProds               float64\n",
            "NumDealsPurchases            int64\n",
            "NumWebPurchases              int64\n",
            "NumCatalogPurchases          int64\n",
            "NumStorePurchases            int64\n",
            "NumWebVisitsMonth            int64\n",
            "AcceptedCmp3                 int64\n",
            "AcceptedCmp4                 int64\n",
            "AcceptedCmp5                 int64\n",
            "AcceptedCmp1                 int64\n",
            "AcceptedCmp2                 int64\n",
            "Complain                     int64\n",
            "Z_CostContact                int64\n",
            "Z_Revenue                    int64\n",
            "Year_Customer              float64\n",
            "Month_Customer             float64\n",
            "Days_Since_Customer        float64\n",
            "Education_Basic               bool\n",
            "Education_Graduation          bool\n",
            "Education_Master              bool\n",
            "Education_PhD                 bool\n",
            "Marital_Status_Alone          bool\n",
            "Marital_Status_Divorced       bool\n",
            "Marital_Status_Married        bool\n",
            "Marital_Status_Single         bool\n",
            "Marital_Status_Together       bool\n",
            "Marital_Status_Widow          bool\n",
            "Marital_Status_YOLO           bool\n",
            "dtype: object\n"
          ]
        }
      ]
    },
    {
      "cell_type": "code",
      "source": [
        "# S'assurer que les colonnes correspondent entre X_train et X_test\n",
        "Si vous utilisez One-Hot Encoding, il peut arriver que X_train et X_test aient des colonnes différentes. Harmonisez-les comme suit :\n",
        "X_train, X_test = X_train.align(X_test, join=\"left\", axis=1)\n",
        "X_test = X_test.fillna(0)  # Remplace les colonnes manquantes par 0\n"
      ],
      "metadata": {
        "id": "0Qt8ZkVjnQPk"
      },
      "execution_count": null,
      "outputs": []
    },
    {
      "cell_type": "code",
      "source": [
        "model = RandomForestClassifier(random_state=11)\n",
        "model.fit(X_train, y_train)\n",
        "\n",
        "y_pred = model.predict(X_test)\n",
        "\n",
        "from sklearn.metrics import accuracy_score, classification_report\n",
        "print(\"Accuracy :\", accuracy_score(y_test, y_pred))\n",
        "print(classification_report(y_test, y_pred))\n"
      ],
      "metadata": {
        "colab": {
          "base_uri": "https://localhost:8080/"
        },
        "id": "eZSBcW4onPNM",
        "outputId": "00f92f20-e8d7-4cd8-eb27-5066a864d467"
      },
      "execution_count": null,
      "outputs": [
        {
          "output_type": "stream",
          "name": "stdout",
          "text": [
            "Accuracy : 0.8727678571428571\n",
            "              precision    recall  f1-score   support\n",
            "\n",
            "           0       0.88      0.98      0.93       379\n",
            "           1       0.71      0.29      0.41        69\n",
            "\n",
            "    accuracy                           0.87       448\n",
            "   macro avg       0.80      0.63      0.67       448\n",
            "weighted avg       0.86      0.87      0.85       448\n",
            "\n"
          ]
        }
      ]
    },
    {
      "cell_type": "markdown",
      "source": [],
      "metadata": {
        "id": "xeGPgP3spMEg"
      }
    },
    {
      "cell_type": "code",
      "source": [
        "print(y_train.value_counts())\n"
      ],
      "metadata": {
        "colab": {
          "base_uri": "https://localhost:8080/"
        },
        "id": "Hr2qY6sbpMYT",
        "outputId": "6e290f86-3eed-4601-e37e-5b25a8846122"
      },
      "execution_count": null,
      "outputs": [
        {
          "output_type": "stream",
          "name": "stdout",
          "text": [
            "Response\n",
            "0    1527\n",
            "1     265\n",
            "Name: count, dtype: int64\n"
          ]
        }
      ]
    },
    {
      "cell_type": "code",
      "source": [
        "from imblearn.under_sampling import RandomUnderSampler\n",
        "undersample = RandomUnderSampler(random_state=42)\n",
        "X_train_balanced, y_train_balanced = undersample.fit_resample(X_train, y_train)\n",
        "\n"
      ],
      "metadata": {
        "id": "G63Kio_vpRPw"
      },
      "execution_count": null,
      "outputs": []
    },
    {
      "cell_type": "markdown",
      "source": [],
      "metadata": {
        "id": "YPno8__RpLWY"
      }
    },
    {
      "cell_type": "code",
      "source": [
        "model = RandomForestClassifier(random_state=42)\n",
        "model.fit(X_train, y_train)\n",
        "\n",
        "y_pred = model.predict(X_test)\n",
        "\n",
        "from sklearn.metrics import accuracy_score, classification_report\n",
        "print(\"Accuracy :\", accuracy_score(y_test, y_pred))\n",
        "print(classification_report(y_test, y_pred))"
      ],
      "metadata": {
        "colab": {
          "base_uri": "https://localhost:8080/"
        },
        "id": "onfkLPY8pmLd",
        "outputId": "8adc175c-03f7-4b57-89e7-c59c1363be6f"
      },
      "execution_count": null,
      "outputs": [
        {
          "output_type": "stream",
          "name": "stdout",
          "text": [
            "Accuracy : 0.8660714285714286\n",
            "              precision    recall  f1-score   support\n",
            "\n",
            "           0       0.88      0.98      0.93       379\n",
            "           1       0.67      0.26      0.38        69\n",
            "\n",
            "    accuracy                           0.87       448\n",
            "   macro avg       0.77      0.62      0.65       448\n",
            "weighted avg       0.85      0.87      0.84       448\n",
            "\n"
          ]
        }
      ]
    },
    {
      "cell_type": "code",
      "source": [
        "# Prédiction avec un seuil ajusté (par exemple, 0.3 au lieu de 0.5)\n",
        "y_pred = (model.predict_proba(X_test)[:, 1] > 0.3).astype(int)\n"
      ],
      "metadata": {
        "id": "BWQCVUxDqH7P"
      },
      "execution_count": null,
      "outputs": []
    },
    {
      "cell_type": "code",
      "source": [
        "model = RandomForestClassifier(random_state=42)\n",
        "model.fit(X_train, y_train)\n",
        "\n",
        "y_pred = (model.predict_proba(X_test)[:, 1] > 0.3677).astype(int)\n",
        "\n",
        "from sklearn.metrics import accuracy_score, classification_report\n",
        "print(\"Accuracy :\", accuracy_score(y_test, y_pred))\n",
        "print(classification_report(y_test, y_pred))"
      ],
      "metadata": {
        "colab": {
          "base_uri": "https://localhost:8080/"
        },
        "id": "rALWHOCxqMc4",
        "outputId": "8b64cf62-82c1-45af-d3ac-dc1cfe3c9ec7"
      },
      "execution_count": null,
      "outputs": [
        {
          "output_type": "stream",
          "name": "stdout",
          "text": [
            "Accuracy : 0.8571428571428571\n",
            "              precision    recall  f1-score   support\n",
            "\n",
            "           0       0.90      0.94      0.92       379\n",
            "           1       0.55      0.41      0.47        69\n",
            "\n",
            "    accuracy                           0.86       448\n",
            "   macro avg       0.72      0.67      0.69       448\n",
            "weighted avg       0.84      0.86      0.85       448\n",
            "\n"
          ]
        }
      ]
    },
    {
      "cell_type": "code",
      "source": [
        "pip install streamlit\n"
      ],
      "metadata": {
        "colab": {
          "base_uri": "https://localhost:8080/"
        },
        "id": "w9xhth5F5INj",
        "outputId": "055d770c-1b36-4cd8-f5d2-776a19bdc81c"
      },
      "execution_count": null,
      "outputs": [
        {
          "output_type": "stream",
          "name": "stdout",
          "text": [
            "Collecting streamlit\n",
            "  Downloading streamlit-1.40.2-py2.py3-none-any.whl.metadata (8.4 kB)\n",
            "Requirement already satisfied: altair<6,>=4.0 in /usr/local/lib/python3.10/dist-packages (from streamlit) (4.2.2)\n",
            "Requirement already satisfied: blinker<2,>=1.0.0 in /usr/local/lib/python3.10/dist-packages (from streamlit) (1.9.0)\n",
            "Requirement already satisfied: cachetools<6,>=4.0 in /usr/local/lib/python3.10/dist-packages (from streamlit) (5.5.0)\n",
            "Requirement already satisfied: click<9,>=7.0 in /usr/local/lib/python3.10/dist-packages (from streamlit) (8.1.7)\n",
            "Requirement already satisfied: numpy<3,>=1.23 in /usr/local/lib/python3.10/dist-packages (from streamlit) (1.26.4)\n",
            "Requirement already satisfied: packaging<25,>=20 in /usr/local/lib/python3.10/dist-packages (from streamlit) (24.2)\n",
            "Requirement already satisfied: pandas<3,>=1.4.0 in /usr/local/lib/python3.10/dist-packages (from streamlit) (2.2.2)\n",
            "Requirement already satisfied: pillow<12,>=7.1.0 in /usr/local/lib/python3.10/dist-packages (from streamlit) (11.0.0)\n",
            "Requirement already satisfied: protobuf<6,>=3.20 in /usr/local/lib/python3.10/dist-packages (from streamlit) (4.25.5)\n",
            "Requirement already satisfied: pyarrow>=7.0 in /usr/local/lib/python3.10/dist-packages (from streamlit) (17.0.0)\n",
            "Requirement already satisfied: requests<3,>=2.27 in /usr/local/lib/python3.10/dist-packages (from streamlit) (2.32.3)\n",
            "Requirement already satisfied: rich<14,>=10.14.0 in /usr/local/lib/python3.10/dist-packages (from streamlit) (13.9.4)\n",
            "Requirement already satisfied: tenacity<10,>=8.1.0 in /usr/local/lib/python3.10/dist-packages (from streamlit) (9.0.0)\n",
            "Requirement already satisfied: toml<2,>=0.10.1 in /usr/local/lib/python3.10/dist-packages (from streamlit) (0.10.2)\n",
            "Requirement already satisfied: typing-extensions<5,>=4.3.0 in /usr/local/lib/python3.10/dist-packages (from streamlit) (4.12.2)\n",
            "Collecting watchdog<7,>=2.1.5 (from streamlit)\n",
            "  Downloading watchdog-6.0.0-py3-none-manylinux2014_x86_64.whl.metadata (44 kB)\n",
            "\u001b[2K     \u001b[90m━━━━━━━━━━━━━━━━━━━━━━━━━━━━━━━━━━━━━━━━\u001b[0m \u001b[32m44.3/44.3 kB\u001b[0m \u001b[31m1.2 MB/s\u001b[0m eta \u001b[36m0:00:00\u001b[0m\n",
            "\u001b[?25hRequirement already satisfied: gitpython!=3.1.19,<4,>=3.0.7 in /usr/local/lib/python3.10/dist-packages (from streamlit) (3.1.43)\n",
            "Collecting pydeck<1,>=0.8.0b4 (from streamlit)\n",
            "  Downloading pydeck-0.9.1-py2.py3-none-any.whl.metadata (4.1 kB)\n",
            "Requirement already satisfied: tornado<7,>=6.0.3 in /usr/local/lib/python3.10/dist-packages (from streamlit) (6.3.3)\n",
            "Requirement already satisfied: entrypoints in /usr/local/lib/python3.10/dist-packages (from altair<6,>=4.0->streamlit) (0.4)\n",
            "Requirement already satisfied: jinja2 in /usr/local/lib/python3.10/dist-packages (from altair<6,>=4.0->streamlit) (3.1.4)\n",
            "Requirement already satisfied: jsonschema>=3.0 in /usr/local/lib/python3.10/dist-packages (from altair<6,>=4.0->streamlit) (4.23.0)\n",
            "Requirement already satisfied: toolz in /usr/local/lib/python3.10/dist-packages (from altair<6,>=4.0->streamlit) (0.12.1)\n",
            "Requirement already satisfied: gitdb<5,>=4.0.1 in /usr/local/lib/python3.10/dist-packages (from gitpython!=3.1.19,<4,>=3.0.7->streamlit) (4.0.11)\n",
            "Requirement already satisfied: python-dateutil>=2.8.2 in /usr/local/lib/python3.10/dist-packages (from pandas<3,>=1.4.0->streamlit) (2.8.2)\n",
            "Requirement already satisfied: pytz>=2020.1 in /usr/local/lib/python3.10/dist-packages (from pandas<3,>=1.4.0->streamlit) (2024.2)\n",
            "Requirement already satisfied: tzdata>=2022.7 in /usr/local/lib/python3.10/dist-packages (from pandas<3,>=1.4.0->streamlit) (2024.2)\n",
            "Requirement already satisfied: charset-normalizer<4,>=2 in /usr/local/lib/python3.10/dist-packages (from requests<3,>=2.27->streamlit) (3.4.0)\n",
            "Requirement already satisfied: idna<4,>=2.5 in /usr/local/lib/python3.10/dist-packages (from requests<3,>=2.27->streamlit) (3.10)\n",
            "Requirement already satisfied: urllib3<3,>=1.21.1 in /usr/local/lib/python3.10/dist-packages (from requests<3,>=2.27->streamlit) (2.2.3)\n",
            "Requirement already satisfied: certifi>=2017.4.17 in /usr/local/lib/python3.10/dist-packages (from requests<3,>=2.27->streamlit) (2024.8.30)\n",
            "Requirement already satisfied: markdown-it-py>=2.2.0 in /usr/local/lib/python3.10/dist-packages (from rich<14,>=10.14.0->streamlit) (3.0.0)\n",
            "Requirement already satisfied: pygments<3.0.0,>=2.13.0 in /usr/local/lib/python3.10/dist-packages (from rich<14,>=10.14.0->streamlit) (2.18.0)\n",
            "Requirement already satisfied: smmap<6,>=3.0.1 in /usr/local/lib/python3.10/dist-packages (from gitdb<5,>=4.0.1->gitpython!=3.1.19,<4,>=3.0.7->streamlit) (5.0.1)\n",
            "Requirement already satisfied: MarkupSafe>=2.0 in /usr/local/lib/python3.10/dist-packages (from jinja2->altair<6,>=4.0->streamlit) (3.0.2)\n",
            "Requirement already satisfied: attrs>=22.2.0 in /usr/local/lib/python3.10/dist-packages (from jsonschema>=3.0->altair<6,>=4.0->streamlit) (24.2.0)\n",
            "Requirement already satisfied: jsonschema-specifications>=2023.03.6 in /usr/local/lib/python3.10/dist-packages (from jsonschema>=3.0->altair<6,>=4.0->streamlit) (2024.10.1)\n",
            "Requirement already satisfied: referencing>=0.28.4 in /usr/local/lib/python3.10/dist-packages (from jsonschema>=3.0->altair<6,>=4.0->streamlit) (0.35.1)\n",
            "Requirement already satisfied: rpds-py>=0.7.1 in /usr/local/lib/python3.10/dist-packages (from jsonschema>=3.0->altair<6,>=4.0->streamlit) (0.21.0)\n",
            "Requirement already satisfied: mdurl~=0.1 in /usr/local/lib/python3.10/dist-packages (from markdown-it-py>=2.2.0->rich<14,>=10.14.0->streamlit) (0.1.2)\n",
            "Requirement already satisfied: six>=1.5 in /usr/local/lib/python3.10/dist-packages (from python-dateutil>=2.8.2->pandas<3,>=1.4.0->streamlit) (1.16.0)\n",
            "Downloading streamlit-1.40.2-py2.py3-none-any.whl (8.6 MB)\n",
            "\u001b[2K   \u001b[90m━━━━━━━━━━━━━━━━━━━━━━━━━━━━━━━━━━━━━━━━\u001b[0m \u001b[32m8.6/8.6 MB\u001b[0m \u001b[31m48.6 MB/s\u001b[0m eta \u001b[36m0:00:00\u001b[0m\n",
            "\u001b[?25hDownloading pydeck-0.9.1-py2.py3-none-any.whl (6.9 MB)\n",
            "\u001b[2K   \u001b[90m━━━━━━━━━━━━━━━━━━━━━━━━━━━━━━━━━━━━━━━━\u001b[0m \u001b[32m6.9/6.9 MB\u001b[0m \u001b[31m71.0 MB/s\u001b[0m eta \u001b[36m0:00:00\u001b[0m\n",
            "\u001b[?25hDownloading watchdog-6.0.0-py3-none-manylinux2014_x86_64.whl (79 kB)\n",
            "\u001b[2K   \u001b[90m━━━━━━━━━━━━━━━━━━━━━━━━━━━━━━━━━━━━━━━━\u001b[0m \u001b[32m79.1/79.1 kB\u001b[0m \u001b[31m5.1 MB/s\u001b[0m eta \u001b[36m0:00:00\u001b[0m\n",
            "\u001b[?25hInstalling collected packages: watchdog, pydeck, streamlit\n",
            "Successfully installed pydeck-0.9.1 streamlit-1.40.2 watchdog-6.0.0\n"
          ]
        }
      ]
    },
    {
      "cell_type": "code",
      "source": [
        "import streamlit as st\n",
        "from sklearn.metrics import classification_report\n",
        "import pandas as pd\n",
        "import numpy as np\n",
        "from sklearn.model_selection import train_test_split\n",
        "from sklearn.ensemble import RandomForestClassifier\n",
        "from sklearn.preprocessing import StandardScaler\n",
        "\n",
        "# Simuler des données pour l'exemple\n",
        "data = {\n",
        "    'Income': np.random.rand(100),\n",
        "    'Kidhome': np.random.randint(0, 2, 100),\n",
        "    'Teenhome': np.random.randint(0, 2, 100),\n",
        "    'Recency': np.random.rand(100),\n",
        "    'MntWines': np.random.rand(100),\n",
        "    'MntFruits': np.random.rand(100),\n",
        "    'Response': np.random.randint(0, 2, 100),\n",
        "}\n",
        "df = pd.DataFrame(data)\n",
        "\n",
        "# Séparer les features (X) et la cible (y)\n",
        "X = df.drop('Response', axis=1)\n",
        "y = df['Response']\n",
        "\n",
        "# Diviser les données en ensembles d'entraînement et de test\n",
        "X_train, X_test, y_train, y_test = train_test_split(X, y, test_size=0.2, random_state=42)\n",
        "\n",
        "# Standardisation des données\n",
        "scaler = StandardScaler()\n",
        "X_train_scaled = scaler.fit_transform(X_train)\n",
        "X_test_scaled = scaler.transform(X_test)\n",
        "\n",
        "# Entraînement du modèle\n",
        "model = RandomForestClassifier(random_state=42)\n",
        "model.fit(X_train_scaled, y_train)\n",
        "\n",
        "# Prédictions\n",
        "y_pred = model.predict(X_test_scaled)\n",
        "\n",
        "# Obtenir les métriques de classification\n",
        "report = classification_report(y_test, y_pred, output_dict=True)\n",
        "\n",
        "# Créer le dashboard\n",
        "st.title(\"Dashboard de Performance du Modèle\")\n",
        "\n",
        "# Affichage des résultats\n",
        "st.subheader(\"Métriques de classification\")\n",
        "st.write(pd.DataFrame(report).transpose())\n",
        "\n",
        "# Graphiques\n",
        "st.subheader(\"Distribution des Prédictions\")\n",
        "st.bar_chart(pd.Series(y_pred).value_counts())\n",
        "\n",
        "st.subheader(\"Distribution des Labels Réels\")\n",
        "st.bar_chart(pd.Series(y_test).value_counts())\n"
      ],
      "metadata": {
        "colab": {
          "base_uri": "https://localhost:8080/"
        },
        "id": "1Rsj_87r5MWT",
        "outputId": "b2143d7d-36c3-48fa-9461-ce4d1518671c"
      },
      "execution_count": null,
      "outputs": [
        {
          "output_type": "stream",
          "name": "stderr",
          "text": [
            "2024-12-02 15:03:11.341 Thread 'MainThread': missing ScriptRunContext! This warning can be ignored when running in bare mode.\n",
            "2024-12-02 15:03:11.342 Thread 'MainThread': missing ScriptRunContext! This warning can be ignored when running in bare mode.\n",
            "2024-12-02 15:03:11.347 Thread 'MainThread': missing ScriptRunContext! This warning can be ignored when running in bare mode.\n",
            "2024-12-02 15:03:11.349 Thread 'MainThread': missing ScriptRunContext! This warning can be ignored when running in bare mode.\n",
            "2024-12-02 15:03:11.357 Thread 'MainThread': missing ScriptRunContext! This warning can be ignored when running in bare mode.\n",
            "2024-12-02 15:03:11.358 Thread 'MainThread': missing ScriptRunContext! This warning can be ignored when running in bare mode.\n",
            "2024-12-02 15:03:11.363 Thread 'MainThread': missing ScriptRunContext! This warning can be ignored when running in bare mode.\n",
            "2024-12-02 15:03:11.364 Thread 'MainThread': missing ScriptRunContext! This warning can be ignored when running in bare mode.\n",
            "2024-12-02 15:03:11.409 Thread 'MainThread': missing ScriptRunContext! This warning can be ignored when running in bare mode.\n",
            "2024-12-02 15:03:11.411 Thread 'MainThread': missing ScriptRunContext! This warning can be ignored when running in bare mode.\n",
            "2024-12-02 15:03:11.413 Thread 'MainThread': missing ScriptRunContext! This warning can be ignored when running in bare mode.\n",
            "2024-12-02 15:03:11.414 Thread 'MainThread': missing ScriptRunContext! This warning can be ignored when running in bare mode.\n",
            "2024-12-02 15:03:11.459 Thread 'MainThread': missing ScriptRunContext! This warning can be ignored when running in bare mode.\n",
            "2024-12-02 15:03:11.461 Thread 'MainThread': missing ScriptRunContext! This warning can be ignored when running in bare mode.\n"
          ]
        },
        {
          "output_type": "execute_result",
          "data": {
            "text/plain": [
              "DeltaGenerator()"
            ]
          },
          "metadata": {},
          "execution_count": 69
        }
      ]
    },
    {
      "cell_type": "code",
      "source": [
        "streamlit run votre_script.py\n"
      ],
      "metadata": {
        "id": "lwuqTUZW5aug"
      },
      "execution_count": null,
      "outputs": []
    }
  ]
}